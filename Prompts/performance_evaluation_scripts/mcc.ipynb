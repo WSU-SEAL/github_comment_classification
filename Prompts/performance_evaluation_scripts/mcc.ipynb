{
 "cells": [
  {
   "cell_type": "code",
   "execution_count": null,
   "metadata": {},
   "outputs": [],
   "source": [
    "import pandas as pd\n",
    "from sklearn.metrics import matthews_corrcoef\n",
    "import os"
   ]
  },
  {
   "cell_type": "code",
   "execution_count": null,
   "metadata": {},
   "outputs": [],
   "source": [
    "df = pd.read_csv('input-file.csv')   \n",
    "y_true = df['label']\n",
    "y_pred = df['classification']\n",
    "mcc = matthews_corrcoef(y_true, y_pred)\n",
    "\n",
    "print(f\"Matthews Correlation Coefficient (MCC): {mcc:.4f}\")\n"
   ]
  },
  {
   "cell_type": "code",
   "execution_count": null,
   "metadata": {},
   "outputs": [],
   "source": [
    "results_dir = 'gpt'\n",
    "# Loop through all files in the directory\n",
    "for filename in os.listdir(results_dir):\n",
    "    if filename.endswith('.csv'):\n",
    "        filepath = os.path.join(results_dir, filename)\n",
    "        \n",
    "        # Read CSV file\n",
    "        df = pd.read_csv(filepath)\n",
    "        \n",
    "        # Check if required columns exist\n",
    "        if 'label' in df.columns and 'classification' in df.columns:\n",
    "            y_true = df['label'].astype(str)\n",
    "            y_pred = df['classification'].astype(str).apply(lambda x: x.split()[0]) \n",
    "            \n",
    "            # Calculate MCC\n",
    "            mcc = matthews_corrcoef(y_true, y_pred)\n",
    "            print(f\"{filename}: MCC = {mcc:.4f}\")\n",
    "        else:\n",
    "            print(f\"{filename}: Skipped (missing 'label' or 'classification' column)\")\n"
   ]
  }
 ],
 "metadata": {
  "kernelspec": {
   "display_name": "Python 3",
   "language": "python",
   "name": "python3"
  },
  "language_info": {
   "codemirror_mode": {
    "name": "ipython",
    "version": 3
   },
   "file_extension": ".py",
   "mimetype": "text/x-python",
   "name": "python",
   "nbconvert_exporter": "python",
   "pygments_lexer": "ipython3",
   "version": "3.13.1"
  }
 },
 "nbformat": 4,
 "nbformat_minor": 2
}
